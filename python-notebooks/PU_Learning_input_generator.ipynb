{
 "cells": [
  {
   "cell_type": "code",
   "execution_count": 1,
   "metadata": {
    "collapsed": true
   },
   "outputs": [],
   "source": [
    "import pandas as pd"
   ]
  },
  {
   "cell_type": "code",
   "execution_count": 2,
   "metadata": {
    "collapsed": true
   },
   "outputs": [],
   "source": [
    "input_data = pd.read_csv('/Users/anwar/java_workspace/Graph-Mining-Project/output/graph_features_max_depth_6/featureOutput_maxDepth_6.csv')"
   ]
  },
  {
   "cell_type": "code",
   "execution_count": 4,
   "metadata": {},
   "outputs": [
    {
     "data": {
      "text/html": [
       "<div>\n",
       "<style>\n",
       "    .dataframe thead tr:only-child th {\n",
       "        text-align: right;\n",
       "    }\n",
       "\n",
       "    .dataframe thead th {\n",
       "        text-align: left;\n",
       "    }\n",
       "\n",
       "    .dataframe tbody tr th {\n",
       "        vertical-align: top;\n",
       "    }\n",
       "</style>\n",
       "<table border=\"1\" class=\"dataframe\">\n",
       "  <thead>\n",
       "    <tr style=\"text-align: right;\">\n",
       "      <th></th>\n",
       "      <th>AuthorId</th>\n",
       "      <th>ArticleId</th>\n",
       "      <th>ShortestDistance</th>\n",
       "      <th>RandomWalkProbability</th>\n",
       "      <th>CurrentScoringMethod</th>\n",
       "      <th>PathLength=1</th>\n",
       "      <th>PathLength=2</th>\n",
       "      <th>PathLength=3</th>\n",
       "      <th>PathLength=4</th>\n",
       "      <th>PathLength=5</th>\n",
       "      <th>PathLength=6</th>\n",
       "    </tr>\n",
       "  </thead>\n",
       "  <tbody>\n",
       "    <tr>\n",
       "      <th>0</th>\n",
       "      <td>a_27227</td>\n",
       "      <td>1250919</td>\n",
       "      <td>4</td>\n",
       "      <td>0.009957</td>\n",
       "      <td>0.001788</td>\n",
       "      <td>0</td>\n",
       "      <td>0</td>\n",
       "      <td>0</td>\n",
       "      <td>4</td>\n",
       "      <td>106</td>\n",
       "      <td>4456</td>\n",
       "    </tr>\n",
       "    <tr>\n",
       "      <th>1</th>\n",
       "      <td>a_27227</td>\n",
       "      <td>1250918</td>\n",
       "      <td>4</td>\n",
       "      <td>0.086772</td>\n",
       "      <td>0.014963</td>\n",
       "      <td>0</td>\n",
       "      <td>0</td>\n",
       "      <td>0</td>\n",
       "      <td>25</td>\n",
       "      <td>921</td>\n",
       "      <td>30697</td>\n",
       "    </tr>\n",
       "    <tr>\n",
       "      <th>2</th>\n",
       "      <td>a_27227</td>\n",
       "      <td>1250955</td>\n",
       "      <td>4</td>\n",
       "      <td>0.123706</td>\n",
       "      <td>0.022744</td>\n",
       "      <td>0</td>\n",
       "      <td>0</td>\n",
       "      <td>2</td>\n",
       "      <td>36</td>\n",
       "      <td>1143</td>\n",
       "      <td>29539</td>\n",
       "    </tr>\n",
       "    <tr>\n",
       "      <th>3</th>\n",
       "      <td>a_27227</td>\n",
       "      <td>1250954</td>\n",
       "      <td>2</td>\n",
       "      <td>0.078837</td>\n",
       "      <td>0.028206</td>\n",
       "      <td>1</td>\n",
       "      <td>1</td>\n",
       "      <td>9</td>\n",
       "      <td>239</td>\n",
       "      <td>3046</td>\n",
       "      <td>40411</td>\n",
       "    </tr>\n",
       "    <tr>\n",
       "      <th>4</th>\n",
       "      <td>a_27227</td>\n",
       "      <td>1250913</td>\n",
       "      <td>3</td>\n",
       "      <td>0.206209</td>\n",
       "      <td>0.037707</td>\n",
       "      <td>0</td>\n",
       "      <td>0</td>\n",
       "      <td>6</td>\n",
       "      <td>100</td>\n",
       "      <td>3149</td>\n",
       "      <td>71164</td>\n",
       "    </tr>\n",
       "  </tbody>\n",
       "</table>\n",
       "</div>"
      ],
      "text/plain": [
       "  AuthorId  ArticleId  ShortestDistance  RandomWalkProbability  \\\n",
       "0  a_27227    1250919                 4               0.009957   \n",
       "1  a_27227    1250918                 4               0.086772   \n",
       "2  a_27227    1250955                 4               0.123706   \n",
       "3  a_27227    1250954                 2               0.078837   \n",
       "4  a_27227    1250913                 3               0.206209   \n",
       "\n",
       "   CurrentScoringMethod  PathLength=1  PathLength=2  PathLength=3  \\\n",
       "0              0.001788             0             0             0   \n",
       "1              0.014963             0             0             0   \n",
       "2              0.022744             0             0             2   \n",
       "3              0.028206             1             1             9   \n",
       "4              0.037707             0             0             6   \n",
       "\n",
       "   PathLength=4  PathLength=5  PathLength=6  \n",
       "0             4           106          4456  \n",
       "1            25           921         30697  \n",
       "2            36          1143         29539  \n",
       "3           239          3046         40411  \n",
       "4           100          3149         71164  "
      ]
     },
     "execution_count": 4,
     "metadata": {},
     "output_type": "execute_result"
    }
   ],
   "source": [
    "input_data.head()"
   ]
  },
  {
   "cell_type": "code",
   "execution_count": 5,
   "metadata": {},
   "outputs": [
    {
     "data": {
      "text/plain": [
       "(44095, 11)"
      ]
     },
     "execution_count": 5,
     "metadata": {},
     "output_type": "execute_result"
    }
   ],
   "source": [
    "input_data.shape"
   ]
  },
  {
   "cell_type": "code",
   "execution_count": 6,
   "metadata": {
    "collapsed": true
   },
   "outputs": [],
   "source": [
    "cite_data = pd.read_csv('/Users/anwar/Box Sync/Graph Mining/EvaluationData/evaluation_data_unique1.csv')"
   ]
  },
  {
   "cell_type": "code",
   "execution_count": 7,
   "metadata": {},
   "outputs": [
    {
     "data": {
      "text/html": [
       "<div>\n",
       "<style>\n",
       "    .dataframe thead tr:only-child th {\n",
       "        text-align: right;\n",
       "    }\n",
       "\n",
       "    .dataframe thead th {\n",
       "        text-align: left;\n",
       "    }\n",
       "\n",
       "    .dataframe tbody tr th {\n",
       "        vertical-align: top;\n",
       "    }\n",
       "</style>\n",
       "<table border=\"1\" class=\"dataframe\">\n",
       "  <thead>\n",
       "    <tr style=\"text-align: right;\">\n",
       "      <th></th>\n",
       "      <th>author_id</th>\n",
       "      <th>article_id</th>\n",
       "      <th>ref_obj_id</th>\n",
       "      <th>proc_id</th>\n",
       "    </tr>\n",
       "  </thead>\n",
       "  <tbody>\n",
       "    <tr>\n",
       "      <th>0</th>\n",
       "      <td>a_117253</td>\n",
       "      <td>122704</td>\n",
       "      <td>5640</td>\n",
       "      <td>5600</td>\n",
       "    </tr>\n",
       "    <tr>\n",
       "      <th>1</th>\n",
       "      <td>a_117253</td>\n",
       "      <td>122704</td>\n",
       "      <td>5906</td>\n",
       "      <td>5600</td>\n",
       "    </tr>\n",
       "    <tr>\n",
       "      <th>2</th>\n",
       "      <td>a_256546</td>\n",
       "      <td>313777</td>\n",
       "      <td>10534</td>\n",
       "      <td>10515</td>\n",
       "    </tr>\n",
       "    <tr>\n",
       "      <th>3</th>\n",
       "      <td>a_95474</td>\n",
       "      <td>2063517</td>\n",
       "      <td>10546</td>\n",
       "      <td>10515</td>\n",
       "    </tr>\n",
       "    <tr>\n",
       "      <th>4</th>\n",
       "      <td>a_268309</td>\n",
       "      <td>1542260</td>\n",
       "      <td>10549</td>\n",
       "      <td>10515</td>\n",
       "    </tr>\n",
       "  </tbody>\n",
       "</table>\n",
       "</div>"
      ],
      "text/plain": [
       "  author_id  article_id  ref_obj_id  proc_id\n",
       "0  a_117253      122704        5640     5600\n",
       "1  a_117253      122704        5906     5600\n",
       "2  a_256546      313777       10534    10515\n",
       "3   a_95474     2063517       10546    10515\n",
       "4  a_268309     1542260       10549    10515"
      ]
     },
     "execution_count": 7,
     "metadata": {},
     "output_type": "execute_result"
    }
   ],
   "source": [
    "cite_data.head()"
   ]
  },
  {
   "cell_type": "code",
   "execution_count": 8,
   "metadata": {},
   "outputs": [
    {
     "data": {
      "text/plain": [
       "(13768, 4)"
      ]
     },
     "execution_count": 8,
     "metadata": {},
     "output_type": "execute_result"
    }
   ],
   "source": [
    "cite_data.shape"
   ]
  },
  {
   "cell_type": "code",
   "execution_count": 9,
   "metadata": {
    "collapsed": true
   },
   "outputs": [],
   "source": [
    "cite_data = cite_data.drop(['article_id', 'proc_id'], 1)"
   ]
  },
  {
   "cell_type": "code",
   "execution_count": 10,
   "metadata": {},
   "outputs": [
    {
     "data": {
      "text/html": [
       "<div>\n",
       "<style>\n",
       "    .dataframe thead tr:only-child th {\n",
       "        text-align: right;\n",
       "    }\n",
       "\n",
       "    .dataframe thead th {\n",
       "        text-align: left;\n",
       "    }\n",
       "\n",
       "    .dataframe tbody tr th {\n",
       "        vertical-align: top;\n",
       "    }\n",
       "</style>\n",
       "<table border=\"1\" class=\"dataframe\">\n",
       "  <thead>\n",
       "    <tr style=\"text-align: right;\">\n",
       "      <th></th>\n",
       "      <th>author_id</th>\n",
       "      <th>ref_obj_id</th>\n",
       "    </tr>\n",
       "  </thead>\n",
       "  <tbody>\n",
       "    <tr>\n",
       "      <th>0</th>\n",
       "      <td>a_117253</td>\n",
       "      <td>5640</td>\n",
       "    </tr>\n",
       "    <tr>\n",
       "      <th>1</th>\n",
       "      <td>a_117253</td>\n",
       "      <td>5906</td>\n",
       "    </tr>\n",
       "    <tr>\n",
       "      <th>2</th>\n",
       "      <td>a_256546</td>\n",
       "      <td>10534</td>\n",
       "    </tr>\n",
       "    <tr>\n",
       "      <th>3</th>\n",
       "      <td>a_95474</td>\n",
       "      <td>10546</td>\n",
       "    </tr>\n",
       "    <tr>\n",
       "      <th>4</th>\n",
       "      <td>a_268309</td>\n",
       "      <td>10549</td>\n",
       "    </tr>\n",
       "  </tbody>\n",
       "</table>\n",
       "</div>"
      ],
      "text/plain": [
       "  author_id  ref_obj_id\n",
       "0  a_117253        5640\n",
       "1  a_117253        5906\n",
       "2  a_256546       10534\n",
       "3   a_95474       10546\n",
       "4  a_268309       10549"
      ]
     },
     "execution_count": 10,
     "metadata": {},
     "output_type": "execute_result"
    }
   ],
   "source": [
    "cite_data.head()"
   ]
  },
  {
   "cell_type": "code",
   "execution_count": 11,
   "metadata": {
    "collapsed": true
   },
   "outputs": [],
   "source": [
    "cite_data = cite_data.drop_duplicates()"
   ]
  },
  {
   "cell_type": "code",
   "execution_count": 12,
   "metadata": {
    "collapsed": true
   },
   "outputs": [],
   "source": [
    "cite_data['cited'] = 1"
   ]
  },
  {
   "cell_type": "code",
   "execution_count": 13,
   "metadata": {
    "collapsed": true
   },
   "outputs": [],
   "source": [
    "cite_data.columns= ['AuthorId', 'ArticleId', 'Cited']"
   ]
  },
  {
   "cell_type": "code",
   "execution_count": 14,
   "metadata": {},
   "outputs": [
    {
     "data": {
      "text/html": [
       "<div>\n",
       "<style>\n",
       "    .dataframe thead tr:only-child th {\n",
       "        text-align: right;\n",
       "    }\n",
       "\n",
       "    .dataframe thead th {\n",
       "        text-align: left;\n",
       "    }\n",
       "\n",
       "    .dataframe tbody tr th {\n",
       "        vertical-align: top;\n",
       "    }\n",
       "</style>\n",
       "<table border=\"1\" class=\"dataframe\">\n",
       "  <thead>\n",
       "    <tr style=\"text-align: right;\">\n",
       "      <th></th>\n",
       "      <th>AuthorId</th>\n",
       "      <th>ArticleId</th>\n",
       "      <th>Cited</th>\n",
       "    </tr>\n",
       "  </thead>\n",
       "  <tbody>\n",
       "    <tr>\n",
       "      <th>0</th>\n",
       "      <td>a_117253</td>\n",
       "      <td>5640</td>\n",
       "      <td>1</td>\n",
       "    </tr>\n",
       "    <tr>\n",
       "      <th>1</th>\n",
       "      <td>a_117253</td>\n",
       "      <td>5906</td>\n",
       "      <td>1</td>\n",
       "    </tr>\n",
       "    <tr>\n",
       "      <th>2</th>\n",
       "      <td>a_256546</td>\n",
       "      <td>10534</td>\n",
       "      <td>1</td>\n",
       "    </tr>\n",
       "    <tr>\n",
       "      <th>3</th>\n",
       "      <td>a_95474</td>\n",
       "      <td>10546</td>\n",
       "      <td>1</td>\n",
       "    </tr>\n",
       "    <tr>\n",
       "      <th>4</th>\n",
       "      <td>a_268309</td>\n",
       "      <td>10549</td>\n",
       "      <td>1</td>\n",
       "    </tr>\n",
       "  </tbody>\n",
       "</table>\n",
       "</div>"
      ],
      "text/plain": [
       "   AuthorId  ArticleId  Cited\n",
       "0  a_117253       5640      1\n",
       "1  a_117253       5906      1\n",
       "2  a_256546      10534      1\n",
       "3   a_95474      10546      1\n",
       "4  a_268309      10549      1"
      ]
     },
     "execution_count": 14,
     "metadata": {},
     "output_type": "execute_result"
    }
   ],
   "source": [
    "cite_data.head()"
   ]
  },
  {
   "cell_type": "code",
   "execution_count": 15,
   "metadata": {},
   "outputs": [
    {
     "data": {
      "text/plain": [
       "(13768, 3)"
      ]
     },
     "execution_count": 15,
     "metadata": {},
     "output_type": "execute_result"
    }
   ],
   "source": [
    "cite_data.shape"
   ]
  },
  {
   "cell_type": "code",
   "execution_count": 16,
   "metadata": {
    "collapsed": true
   },
   "outputs": [],
   "source": [
    "merged_df = input_data.merge(cite_data, how='left', on=['AuthorId', 'ArticleId'])"
   ]
  },
  {
   "cell_type": "code",
   "execution_count": 17,
   "metadata": {
    "scrolled": true
   },
   "outputs": [
    {
     "data": {
      "text/html": [
       "<div>\n",
       "<style>\n",
       "    .dataframe thead tr:only-child th {\n",
       "        text-align: right;\n",
       "    }\n",
       "\n",
       "    .dataframe thead th {\n",
       "        text-align: left;\n",
       "    }\n",
       "\n",
       "    .dataframe tbody tr th {\n",
       "        vertical-align: top;\n",
       "    }\n",
       "</style>\n",
       "<table border=\"1\" class=\"dataframe\">\n",
       "  <thead>\n",
       "    <tr style=\"text-align: right;\">\n",
       "      <th></th>\n",
       "      <th>AuthorId</th>\n",
       "      <th>ArticleId</th>\n",
       "      <th>ShortestDistance</th>\n",
       "      <th>RandomWalkProbability</th>\n",
       "      <th>CurrentScoringMethod</th>\n",
       "      <th>PathLength=1</th>\n",
       "      <th>PathLength=2</th>\n",
       "      <th>PathLength=3</th>\n",
       "      <th>PathLength=4</th>\n",
       "      <th>PathLength=5</th>\n",
       "      <th>PathLength=6</th>\n",
       "      <th>Cited</th>\n",
       "    </tr>\n",
       "  </thead>\n",
       "  <tbody>\n",
       "    <tr>\n",
       "      <th>0</th>\n",
       "      <td>a_27227</td>\n",
       "      <td>1250919</td>\n",
       "      <td>4</td>\n",
       "      <td>0.009957</td>\n",
       "      <td>0.001788</td>\n",
       "      <td>0</td>\n",
       "      <td>0</td>\n",
       "      <td>0</td>\n",
       "      <td>4</td>\n",
       "      <td>106</td>\n",
       "      <td>4456</td>\n",
       "      <td>NaN</td>\n",
       "    </tr>\n",
       "    <tr>\n",
       "      <th>1</th>\n",
       "      <td>a_27227</td>\n",
       "      <td>1250918</td>\n",
       "      <td>4</td>\n",
       "      <td>0.086772</td>\n",
       "      <td>0.014963</td>\n",
       "      <td>0</td>\n",
       "      <td>0</td>\n",
       "      <td>0</td>\n",
       "      <td>25</td>\n",
       "      <td>921</td>\n",
       "      <td>30697</td>\n",
       "      <td>NaN</td>\n",
       "    </tr>\n",
       "    <tr>\n",
       "      <th>2</th>\n",
       "      <td>a_27227</td>\n",
       "      <td>1250955</td>\n",
       "      <td>4</td>\n",
       "      <td>0.123706</td>\n",
       "      <td>0.022744</td>\n",
       "      <td>0</td>\n",
       "      <td>0</td>\n",
       "      <td>2</td>\n",
       "      <td>36</td>\n",
       "      <td>1143</td>\n",
       "      <td>29539</td>\n",
       "      <td>NaN</td>\n",
       "    </tr>\n",
       "    <tr>\n",
       "      <th>3</th>\n",
       "      <td>a_27227</td>\n",
       "      <td>1250954</td>\n",
       "      <td>2</td>\n",
       "      <td>0.078837</td>\n",
       "      <td>0.028206</td>\n",
       "      <td>1</td>\n",
       "      <td>1</td>\n",
       "      <td>9</td>\n",
       "      <td>239</td>\n",
       "      <td>3046</td>\n",
       "      <td>40411</td>\n",
       "      <td>NaN</td>\n",
       "    </tr>\n",
       "    <tr>\n",
       "      <th>4</th>\n",
       "      <td>a_27227</td>\n",
       "      <td>1250913</td>\n",
       "      <td>3</td>\n",
       "      <td>0.206209</td>\n",
       "      <td>0.037707</td>\n",
       "      <td>0</td>\n",
       "      <td>0</td>\n",
       "      <td>6</td>\n",
       "      <td>100</td>\n",
       "      <td>3149</td>\n",
       "      <td>71164</td>\n",
       "      <td>NaN</td>\n",
       "    </tr>\n",
       "  </tbody>\n",
       "</table>\n",
       "</div>"
      ],
      "text/plain": [
       "  AuthorId  ArticleId  ShortestDistance  RandomWalkProbability  \\\n",
       "0  a_27227    1250919                 4               0.009957   \n",
       "1  a_27227    1250918                 4               0.086772   \n",
       "2  a_27227    1250955                 4               0.123706   \n",
       "3  a_27227    1250954                 2               0.078837   \n",
       "4  a_27227    1250913                 3               0.206209   \n",
       "\n",
       "   CurrentScoringMethod  PathLength=1  PathLength=2  PathLength=3  \\\n",
       "0              0.001788             0             0             0   \n",
       "1              0.014963             0             0             0   \n",
       "2              0.022744             0             0             2   \n",
       "3              0.028206             1             1             9   \n",
       "4              0.037707             0             0             6   \n",
       "\n",
       "   PathLength=4  PathLength=5  PathLength=6  Cited  \n",
       "0             4           106          4456    NaN  \n",
       "1            25           921         30697    NaN  \n",
       "2            36          1143         29539    NaN  \n",
       "3           239          3046         40411    NaN  \n",
       "4           100          3149         71164    NaN  "
      ]
     },
     "execution_count": 17,
     "metadata": {},
     "output_type": "execute_result"
    }
   ],
   "source": [
    "merged_df.head()"
   ]
  },
  {
   "cell_type": "code",
   "execution_count": 18,
   "metadata": {},
   "outputs": [
    {
     "data": {
      "text/plain": [
       "(44095, 12)"
      ]
     },
     "execution_count": 18,
     "metadata": {},
     "output_type": "execute_result"
    }
   ],
   "source": [
    "merged_df.shape"
   ]
  },
  {
   "cell_type": "code",
   "execution_count": 19,
   "metadata": {},
   "outputs": [
    {
     "data": {
      "text/plain": [
       "993.0"
      ]
     },
     "execution_count": 19,
     "metadata": {},
     "output_type": "execute_result"
    }
   ],
   "source": [
    "merged_df['Cited'].sum()"
   ]
  },
  {
   "cell_type": "code",
   "execution_count": 20,
   "metadata": {
    "collapsed": true
   },
   "outputs": [],
   "source": [
    "merged_df = merged_df.fillna(0)"
   ]
  },
  {
   "cell_type": "code",
   "execution_count": 21,
   "metadata": {
    "collapsed": true
   },
   "outputs": [],
   "source": [
    "merged_df.to_csv('/Users/anwar/java_workspace/Graph-Mining-Project/output/graph_features_max_depth_6/feature_vector_Wclass.csv',index=False)"
   ]
  },
  {
   "cell_type": "code",
   "execution_count": 23,
   "metadata": {
    "collapsed": true
   },
   "outputs": [],
   "source": [
    "positive_cases = merged_df[merged_df['Cited'] == 1]"
   ]
  },
  {
   "cell_type": "code",
   "execution_count": 24,
   "metadata": {
    "collapsed": true
   },
   "outputs": [],
   "source": [
    "unlabled_cases = merged_df[merged_df['Cited'] == 0]"
   ]
  },
  {
   "cell_type": "code",
   "execution_count": null,
   "metadata": {
    "collapsed": true
   },
   "outputs": [],
   "source": []
  }
 ],
 "metadata": {
  "kernelspec": {
   "display_name": "Python 3",
   "language": "python",
   "name": "python3"
  },
  "language_info": {
   "codemirror_mode": {
    "name": "ipython",
    "version": 3
   },
   "file_extension": ".py",
   "mimetype": "text/x-python",
   "name": "python",
   "nbconvert_exporter": "python",
   "pygments_lexer": "ipython3",
   "version": "3.6.1"
  }
 },
 "nbformat": 4,
 "nbformat_minor": 2
}
