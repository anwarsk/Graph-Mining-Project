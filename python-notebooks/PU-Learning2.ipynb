{
 "cells": [
  {
   "cell_type": "code",
   "execution_count": 137,
   "metadata": {
    "collapsed": true
   },
   "outputs": [],
   "source": [
    "from sklearn.naive_bayes import MultinomialNB\n",
    "nb_classifier = MultinomialNB(fit_prior=False)\n",
    "\n",
    "from sklearn.ensemble import AdaBoostClassifier\n",
    "adb_classfier = AdaBoostClassifier(n_estimators=50)\n",
    "\n",
    "from sklearn.svm import SVC\n",
    "svc_classifier = SVC()\n",
    "\n",
    "from sklearn.tree import DecisionTreeClassifier\n",
    "dt_clf = DecisionTreeClassifier(criterion=\"entropy\", max_depth=5)\n",
    "\n",
    "from sklearn.neural_network import MLPClassifier\n",
    "nn_clf = MLPClassifier(hidden_layer_sizes=(5,5,5))"
   ]
  },
  {
   "cell_type": "code",
   "execution_count": 138,
   "metadata": {
    "collapsed": true
   },
   "outputs": [],
   "source": [
    "import pandas as pd\n",
    "import numpy as np"
   ]
  },
  {
   "cell_type": "code",
   "execution_count": 139,
   "metadata": {
    "collapsed": true
   },
   "outputs": [],
   "source": [
    "input_data = pd.read_csv('/Users/anwar/java_workspace/Graph-Mining-Project/output/graph_features_max_depth_4/feature_vector_complete.csv')\n",
    "input_data = input_data.fillna(np.mean(input_data['D2VAvgCosDist']))\n",
    "positive_cases = input_data[input_data['Cited'] == 1]\n",
    "unlabled_cases = input_data[input_data['Cited'] == 0]"
   ]
  },
  {
   "cell_type": "code",
   "execution_count": 140,
   "metadata": {},
   "outputs": [
    {
     "data": {
      "text/html": [
       "<div>\n",
       "<style>\n",
       "    .dataframe thead tr:only-child th {\n",
       "        text-align: right;\n",
       "    }\n",
       "\n",
       "    .dataframe thead th {\n",
       "        text-align: left;\n",
       "    }\n",
       "\n",
       "    .dataframe tbody tr th {\n",
       "        vertical-align: top;\n",
       "    }\n",
       "</style>\n",
       "<table border=\"1\" class=\"dataframe\">\n",
       "  <thead>\n",
       "    <tr style=\"text-align: right;\">\n",
       "      <th></th>\n",
       "      <th>ShortestDistance</th>\n",
       "      <th>RandomWalkProbability</th>\n",
       "      <th>CurrentScoringMethod</th>\n",
       "      <th>PathLength=1</th>\n",
       "      <th>PathLength=2</th>\n",
       "      <th>PathLength=3</th>\n",
       "      <th>PathLength=4</th>\n",
       "      <th>N2VAvgCosDist</th>\n",
       "      <th>D2VAvgCosDist</th>\n",
       "    </tr>\n",
       "  </thead>\n",
       "  <tbody>\n",
       "    <tr>\n",
       "      <th>0</th>\n",
       "      <td>2</td>\n",
       "      <td>0.032341</td>\n",
       "      <td>0.009708</td>\n",
       "      <td>0</td>\n",
       "      <td>5</td>\n",
       "      <td>81</td>\n",
       "      <td>2676</td>\n",
       "      <td>0.386456</td>\n",
       "      <td>0.295523</td>\n",
       "    </tr>\n",
       "    <tr>\n",
       "      <th>1</th>\n",
       "      <td>2</td>\n",
       "      <td>0.044821</td>\n",
       "      <td>0.015211</td>\n",
       "      <td>0</td>\n",
       "      <td>11</td>\n",
       "      <td>84</td>\n",
       "      <td>2001</td>\n",
       "      <td>0.355503</td>\n",
       "      <td>0.268981</td>\n",
       "    </tr>\n",
       "    <tr>\n",
       "      <th>2</th>\n",
       "      <td>2</td>\n",
       "      <td>0.030942</td>\n",
       "      <td>0.010616</td>\n",
       "      <td>0</td>\n",
       "      <td>8</td>\n",
       "      <td>60</td>\n",
       "      <td>1482</td>\n",
       "      <td>0.290643</td>\n",
       "      <td>0.226678</td>\n",
       "    </tr>\n",
       "    <tr>\n",
       "      <th>3</th>\n",
       "      <td>2</td>\n",
       "      <td>0.003465</td>\n",
       "      <td>0.001258</td>\n",
       "      <td>0</td>\n",
       "      <td>1</td>\n",
       "      <td>2</td>\n",
       "      <td>97</td>\n",
       "      <td>0.278734</td>\n",
       "      <td>0.163345</td>\n",
       "    </tr>\n",
       "    <tr>\n",
       "      <th>4</th>\n",
       "      <td>2</td>\n",
       "      <td>0.003534</td>\n",
       "      <td>0.001278</td>\n",
       "      <td>0</td>\n",
       "      <td>1</td>\n",
       "      <td>2</td>\n",
       "      <td>61</td>\n",
       "      <td>0.232596</td>\n",
       "      <td>0.194628</td>\n",
       "    </tr>\n",
       "  </tbody>\n",
       "</table>\n",
       "</div>"
      ],
      "text/plain": [
       "   ShortestDistance  RandomWalkProbability  CurrentScoringMethod  \\\n",
       "0                 2               0.032341              0.009708   \n",
       "1                 2               0.044821              0.015211   \n",
       "2                 2               0.030942              0.010616   \n",
       "3                 2               0.003465              0.001258   \n",
       "4                 2               0.003534              0.001278   \n",
       "\n",
       "   PathLength=1  PathLength=2  PathLength=3  PathLength=4  N2VAvgCosDist  \\\n",
       "0             0             5            81          2676       0.386456   \n",
       "1             0            11            84          2001       0.355503   \n",
       "2             0             8            60          1482       0.290643   \n",
       "3             0             1             2            97       0.278734   \n",
       "4             0             1             2            61       0.232596   \n",
       "\n",
       "   D2VAvgCosDist  \n",
       "0       0.295523  \n",
       "1       0.268981  \n",
       "2       0.226678  \n",
       "3       0.163345  \n",
       "4       0.194628  "
      ]
     },
     "execution_count": 140,
     "metadata": {},
     "output_type": "execute_result"
    }
   ],
   "source": [
    "P = positive_cases.reset_index(drop=True)\n",
    "P_hold_out = P.sample(frac=0.15)\n",
    "P = P.drop(P_hold_out.index)\n",
    "P.head()\n",
    "P_hold_out.head()\n",
    "\n",
    "U = unlabled_cases.reset_index(drop=True)\n",
    "U.Cited.replace(0,-1, inplace = True)\n",
    "U_hold_out = U.sample(frac=0.025)\n",
    "U = U.drop(U_hold_out.index)\n",
    "U.head()\n",
    "U_hold_out.head()\n",
    "\n",
    "X_input = P.append(U)\n",
    "X_input = X_input.reset_index(drop= True)\n",
    "y_input = X_input['Cited']\n",
    "X_input = X_input.drop(['Cited', 'AuthorId', 'ArticleId'], axis=1)\n",
    "X_input.ShortestDistance.replace(-1, 9999, inplace=True)\n",
    "X_input.head()"
   ]
  },
  {
   "cell_type": "code",
   "execution_count": 141,
   "metadata": {
    "collapsed": true
   },
   "outputs": [],
   "source": [
    "classifier = nn_clf"
   ]
  },
  {
   "cell_type": "code",
   "execution_count": 142,
   "metadata": {},
   "outputs": [
    {
     "name": "stdout",
     "output_type": "stream",
     "text": [
      "Number of RN-  125541\n",
      "Number of RN-  55\n",
      "Number of RN-  0\n",
      "NO RN Found\n"
     ]
    }
   ],
   "source": [
    "isConverged = False\n",
    "U_Input = U.reset_index(drop=True)\n",
    "U_Input.ShortestDistance.replace(-1, 9999)\n",
    "RN = U_Input\n",
    "RN_threshold = 0.85\n",
    "iterationCount = 0\n",
    "while(not isConverged):\n",
    "    X_input = P.append(RN)\n",
    "    X_input = X_input.reset_index(drop= True)\n",
    "    y_input = X_input['Cited']\n",
    "    X_input = X_input.drop(['Cited', 'AuthorId', 'ArticleId'], axis=1)\n",
    "    X_input.ShortestDistance.replace(-1, 9999, inplace=True)\n",
    "    #print(y_input)\n",
    "    classifier.fit(X_input, y_input)\n",
    "    U_Input = U_Input.reset_index(drop=True)\n",
    "    U_probabilities = classifier.predict_proba(U_Input.drop(['Cited', 'AuthorId', 'ArticleId'], axis=1))\n",
    "    #print(U_probabilities)\n",
    "    RN_index = np.where(U_probabilities[:,0]>RN_threshold)[0]\n",
    "    #print(RN_index)\n",
    "    RN = U_Input.iloc[RN_index,:]\n",
    "    U_Input = U_Input.drop(RN_index)\n",
    "    print(\"Number of RN- \", len(RN))\n",
    "    iterationCount+=1\n",
    "    RN_threshold *= 0.9\n",
    "    if(len(RN) <1):\n",
    "        isConverged = True\n",
    "        print(\"NO RN Found\")\n",
    "    if(iterationCount >30):\n",
    "        isConverged = True\n",
    "        print(\"Max Iteration Count Reached\")\n",
    "        "
   ]
  },
  {
   "cell_type": "code",
   "execution_count": 143,
   "metadata": {},
   "outputs": [
    {
     "name": "stdout",
     "output_type": "stream",
     "text": [
      "             precision    recall  f1-score   support\n",
      "\n",
      "       -1.0       0.00      0.00      0.00      4000\n",
      "        1.0       0.13      1.00      0.23       584\n",
      "\n",
      "avg / total       0.02      0.13      0.03      4584\n",
      "\n"
     ]
    },
    {
     "name": "stderr",
     "output_type": "stream",
     "text": [
      "/Users/anwar/anaconda/lib/python3.6/site-packages/sklearn/metrics/classification.py:1113: UndefinedMetricWarning: Precision and F-score are ill-defined and being set to 0.0 in labels with no predicted samples.\n",
      "  'precision', 'predicted', average, warn_for)\n"
     ]
    }
   ],
   "source": [
    "X_test = P_hold_out.append(U_hold_out)\n",
    "X_test = X_test.reset_index(drop=True)\n",
    "Y_test = X_test['Cited']\n",
    "X_test = X_test.drop(['Cited', 'AuthorId', 'ArticleId'],  axis =1)\n",
    "\n",
    "Y_test_predict = classifier.predict(X_test)\n",
    "\n",
    "from sklearn.metrics import classification_report\n",
    "print(classification_report(Y_test, Y_test_predict))"
   ]
  },
  {
   "cell_type": "code",
   "execution_count": 144,
   "metadata": {},
   "outputs": [
    {
     "data": {
      "text/plain": [
       "array([[   0, 4000],\n",
       "       [   0,  584]])"
      ]
     },
     "execution_count": 144,
     "metadata": {},
     "output_type": "execute_result"
    }
   ],
   "source": [
    "from sklearn.metrics import confusion_matrix\n",
    "confusion_matrix(Y_test, Y_test_predict,labels=[-1,1])"
   ]
  },
  {
   "cell_type": "code",
   "execution_count": 145,
   "metadata": {},
   "outputs": [
    {
     "data": {
      "text/plain": [
       "array([-1.,  1.])"
      ]
     },
     "execution_count": 145,
     "metadata": {},
     "output_type": "execute_result"
    }
   ],
   "source": [
    "classifier.classes_"
   ]
  },
  {
   "cell_type": "markdown",
   "metadata": {},
   "source": [
    "### "
   ]
  },
  {
   "cell_type": "code",
   "execution_count": null,
   "metadata": {
    "collapsed": true
   },
   "outputs": [],
   "source": []
  }
 ],
 "metadata": {
  "kernelspec": {
   "display_name": "Python 3",
   "language": "python",
   "name": "python3"
  },
  "language_info": {
   "codemirror_mode": {
    "name": "ipython",
    "version": 3
   },
   "file_extension": ".py",
   "mimetype": "text/x-python",
   "name": "python",
   "nbconvert_exporter": "python",
   "pygments_lexer": "ipython3",
   "version": "3.6.1"
  }
 },
 "nbformat": 4,
 "nbformat_minor": 2
}
